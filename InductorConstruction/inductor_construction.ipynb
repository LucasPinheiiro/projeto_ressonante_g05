{
 "cells": [
  {
   "cell_type": "markdown",
   "metadata": {},
   "source": [
    "## IT333 - Tópicos em Eletrônica de Potência II\n",
    "- **Professor:** José Antenor\n",
    "- **Grupo:** 5\n",
    "- **Integrantes:**\n",
    "  - Lucas Pinheiro 182340\n",
    "  - Rafael Afonso Veiga da Silva 272294\n",
    "  - Alvaro Arturo Zarate Suarez 272300\n",
    "  - Felipe Santiago Pereira de Oliveira 104895\n",
    "- **Projeto:** Construção de Indutor para Filtro LCL (300uH)\n",
    "---"
   ]
  },
  {
   "cell_type": "markdown",
   "metadata": {},
   "source": [
    "\n",
    "### Parametros do inversor"
   ]
  },
  {
   "attachments": {},
   "cell_type": "markdown",
   "metadata": {},
   "source": [
    "| Parâmetro | Valor |\n",
    "|----------|----------|\n",
    "| Potencia aparente (S)| 1kVA | \n",
    "| Tensão (Vc = Vg)| 127V|\n",
    "| Frequência (fg) | 60Hz |\n",
    "| Corrente máxima ($I_{max}$)  | 11.135A $_{peak}$ |\n",
    "| Ripple máximo ($\\Delta I_{max}$) | 1.113A |\n",
    "| Topologia da ponte | Full Bridge |\n",
    "| Indice de modulação | 0.8 |\n",
    "| Tensão CC ($V_{DC}$) | 225V |\n",
    "| Freq. chaveamento(fsw) | 24kHz |\n",
    "| Freq. amostragem(fs) | 48kHz |"
   ]
  },
  {
   "cell_type": "markdown",
   "metadata": {},
   "source": [
    "\n",
    "### Dimensionando número de espiras\n",
    "\n",
    "Para a construção do indutor, começamos com um nucleo já pré determinado e fornecido. Iremos usar o indutor de _part number_ [MMT034T10233](https://www.magmattec.com.br/wp-content/uploads/2019/03/MATERIAL-034_01.pdf).\n",
    "\n",
    "Para a construção do indutor de 300uH, iremos usar a formula a seguir, que nos fornece o numero de espiras com base na indutância desejada e no parametro _Al_ disponivel no _datasheet_ do nucleo.\n",
    "\n",
    "$$N=\\sqrt{\\frac{L}{Al}} \\tag{1}$$\n",
    "\n",
    "De acordo com o datasheet, $Al=110nH/esp^2$, assim teremos;"
   ]
  },
  {
   "cell_type": "code",
   "execution_count": 57,
   "metadata": {},
   "outputs": [],
   "source": [
    "import math\n",
    "Al = 110e-9\n",
    "L = 300e-6"
   ]
  },
  {
   "cell_type": "code",
   "execution_count": 58,
   "metadata": {},
   "outputs": [
    {
     "data": {
      "text/plain": [
       "52.22329678670935"
      ]
     },
     "execution_count": 58,
     "metadata": {},
     "output_type": "execute_result"
    }
   ],
   "source": [
    "N = math.sqrt(L/Al)\n",
    "N"
   ]
  },
  {
   "attachments": {},
   "cell_type": "markdown",
   "metadata": {},
   "source": [
    "Vamos arredondar o **número de espiras para 52** e seguir com a construção do indutor. A próxima fórmula que iremos usar também serve para encontrar o número de espiras, porém, usaremos para encontrar o valor da densidade de campo $B_m$.\n",
    "\n",
    "$$N=\\frac{L \\cdot I_{pico}}{B_m \\cdot A_e} \\cdot 10^4 \\tag{2}$$\n",
    "\n",
    "O fator $10^4$ usado na equação serve para que possamos usar a área de secção do núcleo em $cm^2$. Caso o valor esteja em $m^2$, não é necessário o uso do fator multiplicativo.\n",
    "\n",
    "A corrente de pico que iremos usar, será a corrente máxima somada à metade do ripple de corrente,\n"
   ]
  },
  {
   "cell_type": "code",
   "execution_count": 59,
   "metadata": {},
   "outputs": [
    {
     "data": {
      "text/plain": [
       "11.6915"
      ]
     },
     "execution_count": 59,
     "metadata": {},
     "output_type": "execute_result"
    }
   ],
   "source": [
    "I_max = 11.135\n",
    "I_ripple = 1.113\n",
    "\n",
    "I_pico = I_max + I_ripple/2\n",
    "I_pico"
   ]
  },
  {
   "attachments": {},
   "cell_type": "markdown",
   "metadata": {},
   "source": [
    "A corrente de pico será então equivalente a $11.7\\,A$. \n",
    "\n",
    "A área efetiva do núcleo toroidal é dada pela folha de dados do fabricante e, para o nosso caso, essa tem o valor de 6.85 $cm^2$\n",
    "\n",
    "Resolvendo para $B_m$ em (2), o valor de densidade de campo será,"
   ]
  },
  {
   "cell_type": "code",
   "execution_count": 60,
   "metadata": {},
   "outputs": [
    {
     "data": {
      "text/plain": [
       "[0.0980475243532838]"
      ]
     },
     "execution_count": 60,
     "metadata": {},
     "output_type": "execute_result"
    }
   ],
   "source": [
    "import sympy as sp\n",
    "\n",
    "A_e = 6.85\n",
    "B_m = sp.symbols(\"B_m\")\n",
    "\n",
    "B_m = sp.solve(sp.Eq((L*I_pico*10**4)/(B_m*A_e),N), B_m)\n",
    "B_m"
   ]
  },
  {
   "attachments": {},
   "cell_type": "markdown",
   "metadata": {},
   "source": [
    "O valor de densidade de campo de operação será de $0.0981\\,T$\n",
    "\n",
    "\n",
    "Após consultar a folha de dados do núcleo em uso, identificamos que a densidade de campo máxima $B_{max}$​ é de 11 000 Gauss, o que corresponde a 1.1 Tesla. Portanto, estamos operando dentro de uma faixa de densidade de campo que o núcleo pode suportar, sem entrar na região de saturação. É recomendável que esta utilização fique entre 50% e 70% da capacidade máxima do núcleo, para evitar qualquer problema que operar em saturação possa causar. No nosso caso, estamos utilizando uma proporção de uso de:"
   ]
  },
  {
   "cell_type": "code",
   "execution_count": 61,
   "metadata": {},
   "outputs": [
    {
     "data": {
      "text/plain": [
       "0.08913411304843985"
      ]
     },
     "execution_count": 61,
     "metadata": {},
     "output_type": "execute_result"
    }
   ],
   "source": [
    "B_m_max = 1.1\n",
    "\n",
    "B_relation_to_max = float(B_m[0]/1.1)\n",
    "B_relation_to_max\n"
   ]
  },
  {
   "attachments": {},
   "cell_type": "markdown",
   "metadata": {},
   "source": [
    "A faixa de uso em relação a $B_{max}$ é de apenas $8.9\\%$, ou seja, nosso nucleo está super dimensionado para a nossa aplicação. De qualquer forma, isso não irá causar problemas.\n",
    "\n",
    "Prosseguindo com os cálculos, iremos agora calcular a área da janela $(A_j)$ usada pelo indutor. Vamos considerar o número de espiras $(N)$ encontrado, uma densidade de corrente máxima $(J_{máx})$ de 4.5 $A/mm^2$. O fator de ocupação $(K_w)$ para núcleos toroidais fica abaixo de 0.3. Usaremos $K_w = 0.2$. Assim, teremos para $A_j$:\n",
    "\n",
    "$$\n",
    "A_j = \\frac{N \\cdot I_{ef}}{J_{max} \\cdot K_w} \\tag{3}\n",
    "$$"
   ]
  },
  {
   "cell_type": "code",
   "execution_count": 62,
   "metadata": {},
   "outputs": [
    {
     "data": {
      "text/plain": [
       "4.797080555949561"
      ]
     },
     "execution_count": 62,
     "metadata": {},
     "output_type": "execute_result"
    }
   ],
   "source": [
    "K_w = 0.2\n",
    "J_max =  4.5/0.01 #converting from A/mm^2 to A/cm^2\n",
    "I_ef = I_pico/math.sqrt(2)\n",
    "\n",
    "Aj = (N*I_ef)/(J_max*K_w)\n",
    "Aj"
   ]
  },
  {
   "attachments": {},
   "cell_type": "markdown",
   "metadata": {},
   "source": [
    "Temos assim, $A_j = 4.8 cm^2$.\n",
    "No datasheet do núcleo, podemos verificar a área de janela disponível, uma vez que temos acesso ao diametro interno do toróide, 5.72 $cm$, temos assim:"
   ]
  },
  {
   "cell_type": "code",
   "execution_count": 63,
   "metadata": {},
   "outputs": [
    {
     "data": {
      "text/plain": [
       "25.696971269303067"
      ]
     },
     "execution_count": 63,
     "metadata": {},
     "output_type": "execute_result"
    }
   ],
   "source": [
    "math.pi * (5.72/2)**2"
   ]
  },
  {
   "attachments": {},
   "cell_type": "markdown",
   "metadata": {},
   "source": [
    "A área de janela disponível $(A_{j\\:disponivel})$ do nucleo toroidal que possuímos é de $25.7\\:cm^2$. \n",
    "\n",
    "Podemos concluir então que, a área disponível, é mais que suficiente para a realização do enrolamento do fio no núcleo fornecido. $A_{j\\:usado} < A_{j\\:disponivel}$\n",
    "\n",
    "### Dimensionamento do condutor\n",
    "\n",
    "O condutor a ser usado na construção do indutor precisará ter secção capaz de suportar a corrente de operação do circuito. Para isso usaremos a fórmula (4) para encontrar qual a secção ideal deste fio,\n",
    "\n",
    "$$S_f = \\frac{I_{ef}}{J_{máx}} \\tag{4}$$"
   ]
  },
  {
   "cell_type": "code",
   "execution_count": 64,
   "metadata": {},
   "outputs": [
    {
     "data": {
      "text/plain": [
       "1.837141984942782"
      ]
     },
     "execution_count": 64,
     "metadata": {},
     "output_type": "execute_result"
    }
   ],
   "source": [
    "S_f = I_ef/(J_max*0.01) #multiplying by 0.01 to convert from cm^2 to mm^2\n",
    "S_f"
   ]
  },
  {
   "attachments": {},
   "cell_type": "markdown",
   "metadata": {},
   "source": [
    "A secção ideal deste fio é então $S_f = 1.83\\:mm^2$.\n",
    "\n",
    "O próximo passo é aferir qual o impacto da frequência de chaveamento na seleção deste condutor. Para isso iremos usar a fórmula (5) para saber qual profundidade a corrente irá fluir no fio. Caso a secção deste condutor seja menor do que $S_f$, será necessário utilizar mais de um condutor em paralelo até atingir uma secção igual ou superior a de $S_f$.\n",
    "\n",
    "$$\\gamma = \\sqrt{\\frac{4.35 \\cdot 10^{-3}}{f}} \\tag{5}$$"
   ]
  },
  {
   "cell_type": "code",
   "execution_count": 65,
   "metadata": {},
   "outputs": [
    {
     "data": {
      "text/plain": [
       "0.0003010398644698074"
      ]
     },
     "execution_count": 65,
     "metadata": {},
     "output_type": "execute_result"
    }
   ],
   "source": [
    "freq = 48e3\n",
    "gamma = math.sqrt(4.35e-3/freq)\n",
    "gamma"
   ]
  },
  {
   "attachments": {},
   "cell_type": "markdown",
   "metadata": {},
   "source": [
    "Obtemos então que, $\\gamma = 0.3\\:mm$. Isso implica que, podemos usar um fio com diâmetro de $0.6\\,mm$ sem desperdício algum de material.\n",
    "\n",
    "Tivemos acesso à um fio esmaltado de 18 AWG. De acordo com as tabelas consultadas online, o fio possui diametro de $1.024\\:mm$. Assim, haverá uma pequena região circular, no interior deste fio, que não será de fato útil para a passagem de corrente em $48kHz$, porém, como material e dimensões não são restrições para o projeto, podemos seguir sem maiores problemas.\n",
    "\n",
    "Usando o diâmetro do cabo de 18AWG encontrado para obter a secção, temos:"
   ]
  },
  {
   "cell_type": "code",
   "execution_count": 66,
   "metadata": {},
   "outputs": [
    {
     "data": {
      "text/plain": [
       "0.8235496645826427"
      ]
     },
     "execution_count": 66,
     "metadata": {},
     "output_type": "execute_result"
    }
   ],
   "source": [
    "math.pi*(1.024/2)**2"
   ]
  },
  {
   "attachments": {},
   "cell_type": "markdown",
   "metadata": {},
   "source": [
    "secção do cabo de 18 AWG é de $0.823\\:mm^2$.\n",
    "\n",
    "<div style=\"text-align: center;\">\n",
    "  <img src=\"img/FFF_Corrente_JPG (1).jpg\" alt=\"Indutância\" width=70%><br>\n",
    "  <figcaption>Fig.1 - Simulação da FFT de corrente do modelo disponibilizado no PSIM.</figcaption>\n",
    "</div>\n",
    "<br>\n",
    "\n",
    "Podemos observar que, de acordo com a simulação, a raia majoritária no espectro de corrente é a que corresponde a frequencia de 60Hz. Isso faz com que o impacto do efeito pelicular no cabo usado seja bem baixo, corroborando assim com uma boa escolha de secção para a aplicação.\n",
    "\n",
    "Portanto, para este fio, conseguimos conhecer o número de condutores em paralelo $(ncp)$ necessário para a construção do indutor. Calculamos $ncp$ a seguir:\n",
    "\n",
    "$$ncp = \\frac{S_f}{S_{18\\:awg}} \\tag{6} $$"
   ]
  },
  {
   "cell_type": "code",
   "execution_count": 67,
   "metadata": {},
   "outputs": [
    {
     "data": {
      "text/plain": [
       "2.2307604069923412"
      ]
     },
     "execution_count": 67,
     "metadata": {},
     "output_type": "execute_result"
    }
   ],
   "source": [
    "S_f_18 = (math.pi*(1.024/2)**2)\n",
    "ncp = S_f/S_f_18\n",
    "ncp"
   ]
  },
  {
   "attachments": {},
   "cell_type": "markdown",
   "metadata": {},
   "source": [
    "Com $ncp = 2.23$, podemos concluir que, para obter a secção de condutor ideal precisaremos usar 3 fios condutores e 52 voltas em torno do núcleo toroidal fornecido para a construção do indutor de $300uH$.\n",
    "\n",
    "Utilizando o software aberto Finite Element Method Magnetics (FEMM) fizemos a simulação com os parâmetros **disponibilizados** e chegamos na indutância de $340uH$. \n",
    "\n",
    "<div style=\"text-align: center;\">\n",
    "  <img src=\"img/inductance.png\" alt=\"Indutância\" width=60%><br>\n",
    "  <figcaption>Fig.2 - Simulação de indutância.</figcaption>\n",
    "</div>\n",
    "<br>\n",
    "<br>\n",
    "As imagens a seguir também nos mostram a distribuição teórica das densidades de campo (Fig.3) e da densidade de fluxo (Fig.4) ao longo do corpo do núcleo toroidal. É interessante observar que o fluxo tende a ser maior quanto mais próximo do raio interno do toróide. Isso é justificado pelo fato de esta região apresentar um caminho menor, implicando assim em uma menor relutância da região. \n",
    "<br>\n",
    "<br>\n",
    "<div style=\"text-align: center;\">\n",
    "  <img src=\"img/FieldDensity.png\" alt=\"Indutância\" width=60%><br>\n",
    "  <figcaption>Fig.3 - Simulação de densidade de campo.</figcaption>\n",
    "</div>\n",
    "<br>\n",
    "<br>\n",
    "<br>\n",
    "<div style=\"text-align: center;\">\n",
    "  <img src=\"img/FluxDensity.png\" alt=\"Indutância\" width=60%><br>\n",
    "  <figcaption>Fig.4 - Simulação de densidade de fluxo.</figcaption>\n",
    "</div>\n",
    "<br>\n",
    "<br>"
   ]
  },
  {
   "cell_type": "markdown",
   "metadata": {},
   "source": [
    "A intensidade de campo de operação $H_m$ pode ser encontrada a partir de $B_m$ e da permeabilidade magnética do nucleo encontrada no datasheet."
   ]
  },
  {
   "cell_type": "code",
   "execution_count": 68,
   "metadata": {},
   "outputs": [
    {
     "name": "stdout",
     "output_type": "stream",
     "text": [
      "Intensidade de campo no ponto de operação: 2364.3558 A/m\n"
     ]
    }
   ],
   "source": [
    "u0 = 4*math.pi*1e-7 #vacuum magnetic permeability\n",
    "uc = 33*u0\n",
    "H_m = float(B_m[0])/uc #intensidade de campo no ponto de operação \n",
    "print(f\"Intensidade de campo no ponto de operação: {H_m:.4f} A/m\")"
   ]
  },
  {
   "cell_type": "markdown",
   "metadata": {},
   "source": [
    "As simulações nos mostram distribuições e gradientes ao longo do núcleo do indutor e, os valores encontrados de $B_m = 0.098\\,T$ e $H_m=2.36e3\\,A/m$ são valores médios que estão contidos dentro das distribuições encontradas."
   ]
  },
  {
   "attachments": {},
   "cell_type": "markdown",
   "metadata": {},
   "source": [
    "### Cálculo de perdas\n",
    "\n",
    "O fio usado na construção irá apresentar algumas perdas devido à sua resistência não ideal. Essa perda devido a resistência pode ser estimada encontrando a resistência total do fio \n"
   ]
  },
  {
   "cell_type": "code",
   "execution_count": 69,
   "metadata": {},
   "outputs": [
    {
     "name": "stdout",
     "output_type": "stream",
     "text": [
      "Perdas no fio: 3.338566 W\n"
     ]
    }
   ],
   "source": [
    "# Wire loss\n",
    "rho_cu = 17.241;    # Copper resistivity at 20°C [Ohm*mm2/km]\n",
    "L = 7e-3; #Length [km]\n",
    "ncp = 3\n",
    "R = rho_cu*L/(S_f_18*ncp)\n",
    "perda_wire = (I_ef**2)*R\n",
    "print(f\"Perdas no fio: {perda_wire:.6f} W\")"
   ]
  },
  {
   "attachments": {},
   "cell_type": "markdown",
   "metadata": {},
   "source": [
    "<div style=\"text-align: center;\">\n",
    "  <img src=\"img/core_loss_plot.jpeg\" alt=\"plot_perdas\" width=60%><br>\n",
    "  <figcaption>Fig.5 - Gráfico de perdas no núcleo vs densidade de fluxo que foi diusponibilizado no material.</figcaption>\n",
    "</div>\n",
    "<br>\n",
    "<br>"
   ]
  },
  {
   "attachments": {},
   "cell_type": "markdown",
   "metadata": {},
   "source": [
    "Com o auxílio do gráfico acima, identificamos com o auxílio da Fig.1 que a raia de $60Hz$ é a principal no espectro de corrente, assim, ela será responsável pela maior parcela das perdas.\n",
    "\n",
    "Realizamos uma interpolação dos limites apresentados na Fig.5 e pegamos o valor de perda para a região de operação do nosso circuito."
   ]
  },
  {
   "cell_type": "code",
   "execution_count": 70,
   "metadata": {},
   "outputs": [
    {
     "name": "stdout",
     "output_type": "stream",
     "text": [
      "Perdas_core: 2.047264 W\n"
     ]
    }
   ],
   "source": [
    "import numpy as np\n",
    "import scipy.interpolate as interp\n",
    "\n",
    "r_int = 5.72 #in cm\n",
    "r_ext = 10.2 #in cm\n",
    "thickness_toroide = 3.3 # height in cm\n",
    "Aj_toroide = math.pi*(r_int/2)**2\n",
    "Area_ext_radius = math.pi*(r_ext/2)**2\n",
    "V_toroide = (Area_ext_radius-Aj_toroide)*thickness_toroide #volume in cm^3\n",
    "\n",
    "# Given data\n",
    "Perdas = np.array([10.08131068, 11.56927059, 61.84786841, 163.4423491, 322.6951938, 546.2575102, 839.0703189, 1217.812156, 1643.271266, 2164.149315, 2759.28898])  # [mW/cm^3]\n",
    "Points_Bm = 1e-4 * np.array([944.8813643, 998.1727714, 2003.673003, 3007.165067, 4000.047339, 5009.123227, 6003.376101, 7000.276121, 8029.458521, 9010.024522, 10000])  # [T]\n",
    "\n",
    "# Create a lookup table\n",
    "tabela_busca = np.column_stack((Points_Bm, Perdas))\n",
    "tabela_busca = tabela_busca[tabela_busca[:, 0].argsort()]\n",
    "\n",
    "Bm = float(B_m[0])\n",
    "\n",
    "# Interpolate \n",
    "perdas_interp = interp.interp1d(tabela_busca[:, 0], tabela_busca[:, 1], kind='linear')\n",
    "perda_core = perdas_interp(Bm) * (V_toroide / 1e3)  # Perdas totais no core [W]\n",
    "\n",
    "print(f\"Perdas_core: {perda_core:.6f} W\")\n"
   ]
  },
  {
   "attachments": {},
   "cell_type": "markdown",
   "metadata": {},
   "source": [
    "Assim, as perdas totais do indutor serão as perdas associadas ao núcleo somadas às perdas associadas ao condutor,\n",
    "\n",
    "$$\n",
    "Perda_{tot} = Perda_{wire}+Perda_{core} \\tag{7}\n",
    "$$"
   ]
  },
  {
   "cell_type": "code",
   "execution_count": 71,
   "metadata": {},
   "outputs": [
    {
     "name": "stdout",
     "output_type": "stream",
     "text": [
      "Perdas totais: 5.385830 W\n"
     ]
    }
   ],
   "source": [
    "perda_total = perda_wire + perda_core\n",
    "print(f\"Perdas totais: {perda_total:.6f} W\")"
   ]
  },
  {
   "attachments": {},
   "cell_type": "markdown",
   "metadata": {},
   "source": [
    "Então, as perdas totais relacionadas ao núcleo e ao fio equivalem a um total de cerca de $5.4W$\n",
    "\n",
    "Não conseguimos por nenhuma fonte o valor da resistência térmica do núcleo de pó de ferro, logo, não foi possível estimar a temperatura de operação do indutor para as condições calculadas."
   ]
  },
  {
   "cell_type": "markdown",
   "metadata": {},
   "source": []
  }
 ],
 "metadata": {
  "kernelspec": {
   "display_name": "Python 3",
   "language": "python",
   "name": "python3"
  },
  "language_info": {
   "codemirror_mode": {
    "name": "ipython",
    "version": 3
   },
   "file_extension": ".py",
   "mimetype": "text/x-python",
   "name": "python",
   "nbconvert_exporter": "python",
   "pygments_lexer": "ipython3",
   "version": "3.11.2"
  },
  "orig_nbformat": 4,
  "vscode": {
   "interpreter": {
    "hash": "5238573367df39f7286bb46f9ff5f08f63a01a80960060ce41e3c79b190280fa"
   }
  }
 },
 "nbformat": 4,
 "nbformat_minor": 2
}
